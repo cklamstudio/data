{
 "cells": [
  {
   "cell_type": "markdown",
   "id": "1683db7c",
   "metadata": {},
   "source": [
    "<h2>Java</h2>"
   ]
  },
  {
   "cell_type": "code",
   "execution_count": 1,
   "id": "58af79a3",
   "metadata": {},
   "outputs": [
    {
     "name": "stdout",
     "output_type": "stream",
     "text": [
      "Writing Program.java\n"
     ]
    }
   ],
   "source": [
    "%%writefile Program.java\n",
    "import java.io.File;\n",
    "import java.io.FileWriter;\n",
    "import java.util.ArrayList;\n",
    "import java.util.List;\n",
    "import java.util.Scanner;\n",
    "\n",
    "public class Program {\n",
    "    public static void main(String[] args) {\n",
    "        try {\n",
    "            String filePath = args[0];\n",
    "            String textStr = args[1];\n",
    "            writeHelloWorld(filePath, textStr);\n",
    "            readHelloWorld(filePath);\n",
    "        } catch (Exception e) {\n",
    "            e.printStackTrace();\n",
    "        }\n",
    "    }\n",
    "\n",
    "    public static void writeHelloWorld(String filePath, String textStr) throws Exception {\n",
    "        FileWriter writerObj = new FileWriter(filePath);\n",
    "        writerObj.write(textStr);\n",
    "        writerObj.close();\n",
    "    }\n",
    "\n",
    "    public static void readHelloWorld(String filePath) throws Exception {\n",
    "        List<String> textList = new ArrayList<String>();\n",
    "        Scanner scannerObj = new Scanner(new File(filePath));\n",
    "        while (scannerObj.hasNextLine()) {\n",
    "            textList.add(scannerObj.nextLine());\n",
    "        }\n",
    "        scannerObj.close();\n",
    "        String textStr = String.join(System.getProperty(\"line.separator\"), textList);\n",
    "        System.out.println(textStr);\n",
    "    }\n",
    "}"
   ]
  },
  {
   "cell_type": "code",
   "execution_count": 2,
   "id": "29d9893a",
   "metadata": {
    "scrolled": false
   },
   "outputs": [
    {
     "name": "stdout",
     "output_type": "stream",
     "text": [
      "Microsoft Windows [Version 10.0.22000.318]\r\n",
      "(c) Microsoft Corporation. All rights reserved.\r\n",
      "\r\n",
      "C:\\Users\\onecklam\\Desktop\\HelloWorld>javac *.java && java Program hello_world.txt \"Hello World!\"\n",
      "Hello World!\r\n",
      "\r\n",
      "C:\\Users\\onecklam\\Desktop\\HelloWorld>"
     ]
    }
   ],
   "source": [
    "%%cmd\n",
    "javac *.java && java Program hello_world.txt \"Hello World!\""
   ]
  },
  {
   "cell_type": "markdown",
   "id": "b859796a",
   "metadata": {},
   "source": [
    "<h2>Node.js</h2>"
   ]
  },
  {
   "cell_type": "code",
   "execution_count": 5,
   "id": "9077b6b8",
   "metadata": {},
   "outputs": [
    {
     "name": "stdout",
     "output_type": "stream",
     "text": [
      "Writing Program.js\n"
     ]
    }
   ],
   "source": [
    "%%writefile Program.js\n",
    "var process = require(\"process\");\n",
    "var fs = require(\"fs\");\n",
    "\n",
    "class Program {\n",
    "    main(args) {\n",
    "        try {\n",
    "            var filePath = args[2];\n",
    "            var textStr = args[3];\n",
    "            this.writeHelloWorld(filePath, textStr);\n",
    "            this.readHelloWorld(filePath);\n",
    "        } catch (e) {\n",
    "            console.log(e);\n",
    "        }\n",
    "    }\n",
    "\n",
    "    writeHelloWorld(filePath, textStr) {\n",
    "        fs.writeFile(filePath, textStr, function (e) {\n",
    "            if (e) {throw e;}\n",
    "        });\n",
    "    }\n",
    "\n",
    "    readHelloWorld(filePath) {\n",
    "        fs.readFile(filePath, \"utf8\", function (e, textStr) {\n",
    "            if (e) {throw e;}\n",
    "            console.log(textStr);\n",
    "        });\n",
    "    }\n",
    "}\n",
    "\n",
    "(new Program()).main(process.argv);"
   ]
  },
  {
   "cell_type": "code",
   "execution_count": 6,
   "id": "b2acf3f7",
   "metadata": {
    "scrolled": true
   },
   "outputs": [
    {
     "name": "stdout",
     "output_type": "stream",
     "text": [
      "Microsoft Windows [Version 10.0.22000.318]\r\n",
      "(c) Microsoft Corporation. All rights reserved.\r\n",
      "\r\n",
      "C:\\Users\\onecklam\\Desktop\\HelloWorld>node Program.js hello_world.txt \"Hello World!\"\n",
      "Hello World!\n",
      "\r\n",
      "C:\\Users\\onecklam\\Desktop\\HelloWorld>"
     ]
    }
   ],
   "source": [
    "%%cmd\n",
    "node Program.js hello_world.txt \"Hello World!\""
   ]
  },
  {
   "cell_type": "markdown",
   "id": "59885c5f",
   "metadata": {},
   "source": [
    "<h2>C#</h2>"
   ]
  },
  {
   "cell_type": "code",
   "execution_count": 3,
   "id": "7f5bd740",
   "metadata": {},
   "outputs": [
    {
     "name": "stdout",
     "output_type": "stream",
     "text": [
      "Writing Program.cs\n"
     ]
    }
   ],
   "source": [
    "%%writefile Program.cs\n",
    "using System;\n",
    "using System.IO;\n",
    "\n",
    "class Program {\n",
    "    static void Main(string[] args) {\n",
    "        try {\n",
    "            string filePath = args[0];\n",
    "            string textStr = args[1];\n",
    "            writeHelloWorld(filePath, textStr);\n",
    "            readHelloWorld(filePath);\n",
    "        } catch (Exception e) {\n",
    "            Console.WriteLine(e);\n",
    "        }\n",
    "    }\n",
    "\n",
    "    static void writeHelloWorld(string filePath, string textStr) {\n",
    "        File.WriteAllText(filePath, textStr);\n",
    "    }\n",
    "\n",
    "    static void readHelloWorld(string filePath) {\n",
    "        string textStr = File.ReadAllText(filePath);\n",
    "        Console.WriteLine(textStr);\n",
    "    }\n",
    "}"
   ]
  },
  {
   "cell_type": "code",
   "execution_count": 4,
   "id": "c5698608",
   "metadata": {
    "scrolled": false
   },
   "outputs": [
    {
     "name": "stdout",
     "output_type": "stream",
     "text": [
      "Microsoft Windows [Version 10.0.22000.318]\r\n",
      "(c) Microsoft Corporation. All rights reserved.\r\n",
      "\r\n",
      "C:\\Users\\onecklam\\Desktop\\HelloWorld>set PATH=C:\\Windows\\Microsoft.NET\\Framework64\\v4.0.30319;%PATH% && csc *.cs && Program hello_world.txt \"Hello World!\"\n",
      "Microsoft (R) Visual C# Compiler version 4.8.4161.0\r",
      "\r\n",
      "for C# 5\r\n",
      "Copyright (C) Microsoft Corporation. All rights reserved.\r",
      "\r\n",
      "\r",
      "\r\n",
      "This compiler is provided as part of the Microsoft (R) .NET Framework, but only supports language versions up to C# 5, which is no longer the latest version. For compilers that support newer versions of the C# programming language, see http://go.microsoft.com/fwlink/?LinkID=533240\r\n",
      "\r\n",
      "Hello World!\r\n",
      "\r\n",
      "C:\\Users\\onecklam\\Desktop\\HelloWorld>"
     ]
    }
   ],
   "source": [
    "%%cmd\n",
    "csc *.cs && Program hello_world.txt \"Hello World!\""
   ]
  },
  {
   "cell_type": "markdown",
   "id": "e41d9df3",
   "metadata": {},
   "source": [
    "<h2>Python</h2>"
   ]
  },
  {
   "cell_type": "code",
   "execution_count": 7,
   "id": "147b81b5",
   "metadata": {},
   "outputs": [
    {
     "name": "stdout",
     "output_type": "stream",
     "text": [
      "Writing Program.py\n"
     ]
    }
   ],
   "source": [
    "%%writefile Program.py\n",
    "import sys;\n",
    "import traceback;\n",
    "\n",
    "class Program:\n",
    "    def main(self, args):\n",
    "        try:\n",
    "            filePath = args[1];\n",
    "            textStr = args[2];\n",
    "            self.writeHelloWorld(filePath, textStr);\n",
    "            self.readHelloWorld(filePath);\n",
    "        except Exception as e:\n",
    "            print(traceback.format_exc());\n",
    "\n",
    "    def writeHelloWorld(self, filePath, textStr):\n",
    "        writerObj = open(filePath, \"w\");\n",
    "        writerObj.write(textStr);\n",
    "        writerObj.close();\n",
    "\n",
    "    def readHelloWorld(self, filePath):\n",
    "        textStr = \"\";\n",
    "        readerObj = open(filePath, \"r\");\n",
    "        textStr = readerObj.read();\n",
    "        readerObj.close();\n",
    "        print(textStr);\n",
    "\n",
    "Program().main(sys.argv);"
   ]
  },
  {
   "cell_type": "code",
   "execution_count": 8,
   "id": "dfdc2d4c",
   "metadata": {
    "scrolled": false
   },
   "outputs": [
    {
     "name": "stdout",
     "output_type": "stream",
     "text": [
      "Microsoft Windows [Version 10.0.22000.318]\r\n",
      "(c) Microsoft Corporation. All rights reserved.\r\n",
      "\r\n",
      "C:\\Users\\onecklam\\Desktop\\HelloWorld>python Program.py hello_world.txt \"Hello World!\"\n",
      "Hello World!\r\n",
      "\r\n",
      "C:\\Users\\onecklam\\Desktop\\HelloWorld>"
     ]
    }
   ],
   "source": [
    "%%cmd\n",
    "python Program.py hello_world.txt \"Hello World!\""
   ]
  }
 ],
 "metadata": {
  "kernelspec": {
   "display_name": "Python 3 (ipykernel)",
   "language": "python",
   "name": "python3"
  },
  "language_info": {
   "codemirror_mode": {
    "name": "ipython",
    "version": 3
   },
   "file_extension": ".py",
   "mimetype": "text/x-python",
   "name": "python",
   "nbconvert_exporter": "python",
   "pygments_lexer": "ipython3",
   "version": "3.9.8"
  }
 },
 "nbformat": 4,
 "nbformat_minor": 5
}
